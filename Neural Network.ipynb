{
 "cells": [
  {
   "cell_type": "markdown",
   "metadata": {
    "collapsed": false
   },
   "source": [
    "# Laden der Daten"
   ]
  },
  {
   "cell_type": "code",
   "execution_count": 144,
   "metadata": {},
   "outputs": [],
   "source": [
    "import numpy as np"
   ]
  },
  {
   "cell_type": "code",
   "execution_count": 145,
   "metadata": {
    "collapsed": true
   },
   "outputs": [
    {
     "data": {
      "text/html": [
       "<div>\n",
       "<style scoped>\n",
       "    .dataframe tbody tr th:only-of-type {\n",
       "        vertical-align: middle;\n",
       "    }\n",
       "\n",
       "    .dataframe tbody tr th {\n",
       "        vertical-align: top;\n",
       "    }\n",
       "\n",
       "    .dataframe thead th {\n",
       "        text-align: right;\n",
       "    }\n",
       "</style>\n",
       "<table border=\"1\" class=\"dataframe\">\n",
       "  <thead>\n",
       "    <tr style=\"text-align: right;\">\n",
       "      <th></th>\n",
       "      <th>name</th>\n",
       "      <th>year</th>\n",
       "      <th>selling_price</th>\n",
       "      <th>km_driven</th>\n",
       "      <th>fuel</th>\n",
       "      <th>seller_type</th>\n",
       "      <th>transmission</th>\n",
       "      <th>owner</th>\n",
       "      <th>mileage</th>\n",
       "      <th>engine</th>\n",
       "      <th>max_power</th>\n",
       "      <th>torque</th>\n",
       "      <th>seats</th>\n",
       "    </tr>\n",
       "  </thead>\n",
       "  <tbody>\n",
       "    <tr>\n",
       "      <th>0</th>\n",
       "      <td>Maruti Swift Dzire VDI</td>\n",
       "      <td>2014</td>\n",
       "      <td>450000</td>\n",
       "      <td>145500</td>\n",
       "      <td>Diesel</td>\n",
       "      <td>Individual</td>\n",
       "      <td>Manual</td>\n",
       "      <td>First Owner</td>\n",
       "      <td>23.4 kmpl</td>\n",
       "      <td>1248 CC</td>\n",
       "      <td>74 bhp</td>\n",
       "      <td>190Nm@ 2000rpm</td>\n",
       "      <td>5.0</td>\n",
       "    </tr>\n",
       "    <tr>\n",
       "      <th>1</th>\n",
       "      <td>Skoda Rapid 1.5 TDI Ambition</td>\n",
       "      <td>2014</td>\n",
       "      <td>370000</td>\n",
       "      <td>120000</td>\n",
       "      <td>Diesel</td>\n",
       "      <td>Individual</td>\n",
       "      <td>Manual</td>\n",
       "      <td>Second Owner</td>\n",
       "      <td>21.14 kmpl</td>\n",
       "      <td>1498 CC</td>\n",
       "      <td>103.52 bhp</td>\n",
       "      <td>250Nm@ 1500-2500rpm</td>\n",
       "      <td>5.0</td>\n",
       "    </tr>\n",
       "    <tr>\n",
       "      <th>2</th>\n",
       "      <td>Honda City 2017-2020 EXi</td>\n",
       "      <td>2006</td>\n",
       "      <td>158000</td>\n",
       "      <td>140000</td>\n",
       "      <td>Petrol</td>\n",
       "      <td>Individual</td>\n",
       "      <td>Manual</td>\n",
       "      <td>Third Owner</td>\n",
       "      <td>17.7 kmpl</td>\n",
       "      <td>1497 CC</td>\n",
       "      <td>78 bhp</td>\n",
       "      <td>12.7@ 2,700(kgm@ rpm)</td>\n",
       "      <td>5.0</td>\n",
       "    </tr>\n",
       "    <tr>\n",
       "      <th>3</th>\n",
       "      <td>Hyundai i20 Sportz Diesel</td>\n",
       "      <td>2010</td>\n",
       "      <td>225000</td>\n",
       "      <td>127000</td>\n",
       "      <td>Diesel</td>\n",
       "      <td>Individual</td>\n",
       "      <td>Manual</td>\n",
       "      <td>First Owner</td>\n",
       "      <td>23.0 kmpl</td>\n",
       "      <td>1396 CC</td>\n",
       "      <td>90 bhp</td>\n",
       "      <td>22.4 kgm at 1750-2750rpm</td>\n",
       "      <td>5.0</td>\n",
       "    </tr>\n",
       "    <tr>\n",
       "      <th>4</th>\n",
       "      <td>Maruti Swift VXI BSIII</td>\n",
       "      <td>2007</td>\n",
       "      <td>130000</td>\n",
       "      <td>120000</td>\n",
       "      <td>Petrol</td>\n",
       "      <td>Individual</td>\n",
       "      <td>Manual</td>\n",
       "      <td>First Owner</td>\n",
       "      <td>16.1 kmpl</td>\n",
       "      <td>1298 CC</td>\n",
       "      <td>88.2 bhp</td>\n",
       "      <td>11.5@ 4,500(kgm@ rpm)</td>\n",
       "      <td>5.0</td>\n",
       "    </tr>\n",
       "  </tbody>\n",
       "</table>\n",
       "</div>"
      ],
      "text/plain": [
       "                           name  year  selling_price  km_driven    fuel  \\\n",
       "0        Maruti Swift Dzire VDI  2014         450000     145500  Diesel   \n",
       "1  Skoda Rapid 1.5 TDI Ambition  2014         370000     120000  Diesel   \n",
       "2      Honda City 2017-2020 EXi  2006         158000     140000  Petrol   \n",
       "3     Hyundai i20 Sportz Diesel  2010         225000     127000  Diesel   \n",
       "4        Maruti Swift VXI BSIII  2007         130000     120000  Petrol   \n",
       "\n",
       "  seller_type transmission         owner     mileage   engine   max_power  \\\n",
       "0  Individual       Manual   First Owner   23.4 kmpl  1248 CC      74 bhp   \n",
       "1  Individual       Manual  Second Owner  21.14 kmpl  1498 CC  103.52 bhp   \n",
       "2  Individual       Manual   Third Owner   17.7 kmpl  1497 CC      78 bhp   \n",
       "3  Individual       Manual   First Owner   23.0 kmpl  1396 CC      90 bhp   \n",
       "4  Individual       Manual   First Owner   16.1 kmpl  1298 CC    88.2 bhp   \n",
       "\n",
       "                     torque  seats  \n",
       "0            190Nm@ 2000rpm    5.0  \n",
       "1       250Nm@ 1500-2500rpm    5.0  \n",
       "2     12.7@ 2,700(kgm@ rpm)    5.0  \n",
       "3  22.4 kgm at 1750-2750rpm    5.0  \n",
       "4     11.5@ 4,500(kgm@ rpm)    5.0  "
      ]
     },
     "execution_count": 145,
     "metadata": {},
     "output_type": "execute_result"
    }
   ],
   "source": [
    "# load vine dfset from scikit-learn\n",
    "\n",
    "\n",
    "import pandas as pd\n",
    "# import train test split\n",
    "from sklearn.model_selection import train_test_split\n",
    "import torch\n",
    "\n",
    "df=pd.read_csv('Car details v3.csv')\n",
    "df.head()"
   ]
  },
  {
   "cell_type": "code",
   "execution_count": 146,
   "metadata": {},
   "outputs": [
    {
     "name": "stdout",
     "output_type": "stream",
     "text": [
      "<class 'pandas.core.frame.DataFrame'>\n",
      "RangeIndex: 8128 entries, 0 to 8127\n",
      "Data columns (total 13 columns):\n",
      " #   Column         Non-Null Count  Dtype  \n",
      "---  ------         --------------  -----  \n",
      " 0   name           8128 non-null   object \n",
      " 1   year           8128 non-null   int64  \n",
      " 2   selling_price  8128 non-null   int64  \n",
      " 3   km_driven      8128 non-null   int64  \n",
      " 4   fuel           8128 non-null   object \n",
      " 5   seller_type    8128 non-null   object \n",
      " 6   transmission   8128 non-null   object \n",
      " 7   owner          8128 non-null   object \n",
      " 8   mileage        7907 non-null   object \n",
      " 9   engine         7907 non-null   object \n",
      " 10  max_power      7913 non-null   object \n",
      " 11  torque         7906 non-null   object \n",
      " 12  seats          7907 non-null   float64\n",
      "dtypes: float64(1), int64(3), object(9)\n",
      "memory usage: 825.6+ KB\n"
     ]
    }
   ],
   "source": [
    "df.info()"
   ]
  },
  {
   "cell_type": "code",
   "execution_count": 148,
   "metadata": {},
   "outputs": [],
   "source": [
    "#split engine column and take the first value\n",
    "df['engine']=df['engine'].str.split(' ').str[0]\n",
    "#split mileage column and take the first value\n",
    "df['mileage']=df['mileage'].str.split(' ').str[0]\n",
    "#split max_power column and take the first value\n",
    "df['max_power']=df['max_power'].str.split(' ').str[0]\n",
    "#split name into brand and model\n",
    "df['brand']=df['name'].str.split(' ').str[0]\n",
    "#drop name and torque column\n",
    "df=df.drop(['name','torque'],axis=1)"
   ]
  },
  {
   "cell_type": "code",
   "execution_count": 149,
   "metadata": {},
   "outputs": [
    {
     "data": {
      "text/html": [
       "<div>\n",
       "<style scoped>\n",
       "    .dataframe tbody tr th:only-of-type {\n",
       "        vertical-align: middle;\n",
       "    }\n",
       "\n",
       "    .dataframe tbody tr th {\n",
       "        vertical-align: top;\n",
       "    }\n",
       "\n",
       "    .dataframe thead th {\n",
       "        text-align: right;\n",
       "    }\n",
       "</style>\n",
       "<table border=\"1\" class=\"dataframe\">\n",
       "  <thead>\n",
       "    <tr style=\"text-align: right;\">\n",
       "      <th></th>\n",
       "      <th>year</th>\n",
       "      <th>selling_price</th>\n",
       "      <th>km_driven</th>\n",
       "      <th>fuel</th>\n",
       "      <th>seller_type</th>\n",
       "      <th>transmission</th>\n",
       "      <th>owner</th>\n",
       "      <th>mileage</th>\n",
       "      <th>engine</th>\n",
       "      <th>max_power</th>\n",
       "      <th>seats</th>\n",
       "      <th>brand</th>\n",
       "    </tr>\n",
       "  </thead>\n",
       "  <tbody>\n",
       "    <tr>\n",
       "      <th>0</th>\n",
       "      <td>2014</td>\n",
       "      <td>450000</td>\n",
       "      <td>145500</td>\n",
       "      <td>Diesel</td>\n",
       "      <td>Individual</td>\n",
       "      <td>Manual</td>\n",
       "      <td>First Owner</td>\n",
       "      <td>23.4</td>\n",
       "      <td>1248</td>\n",
       "      <td>74</td>\n",
       "      <td>5.0</td>\n",
       "      <td>Maruti</td>\n",
       "    </tr>\n",
       "    <tr>\n",
       "      <th>1</th>\n",
       "      <td>2014</td>\n",
       "      <td>370000</td>\n",
       "      <td>120000</td>\n",
       "      <td>Diesel</td>\n",
       "      <td>Individual</td>\n",
       "      <td>Manual</td>\n",
       "      <td>Second Owner</td>\n",
       "      <td>21.14</td>\n",
       "      <td>1498</td>\n",
       "      <td>103.52</td>\n",
       "      <td>5.0</td>\n",
       "      <td>Skoda</td>\n",
       "    </tr>\n",
       "    <tr>\n",
       "      <th>2</th>\n",
       "      <td>2006</td>\n",
       "      <td>158000</td>\n",
       "      <td>140000</td>\n",
       "      <td>Petrol</td>\n",
       "      <td>Individual</td>\n",
       "      <td>Manual</td>\n",
       "      <td>Third Owner</td>\n",
       "      <td>17.7</td>\n",
       "      <td>1497</td>\n",
       "      <td>78</td>\n",
       "      <td>5.0</td>\n",
       "      <td>Honda</td>\n",
       "    </tr>\n",
       "    <tr>\n",
       "      <th>3</th>\n",
       "      <td>2010</td>\n",
       "      <td>225000</td>\n",
       "      <td>127000</td>\n",
       "      <td>Diesel</td>\n",
       "      <td>Individual</td>\n",
       "      <td>Manual</td>\n",
       "      <td>First Owner</td>\n",
       "      <td>23.0</td>\n",
       "      <td>1396</td>\n",
       "      <td>90</td>\n",
       "      <td>5.0</td>\n",
       "      <td>Hyundai</td>\n",
       "    </tr>\n",
       "    <tr>\n",
       "      <th>4</th>\n",
       "      <td>2007</td>\n",
       "      <td>130000</td>\n",
       "      <td>120000</td>\n",
       "      <td>Petrol</td>\n",
       "      <td>Individual</td>\n",
       "      <td>Manual</td>\n",
       "      <td>First Owner</td>\n",
       "      <td>16.1</td>\n",
       "      <td>1298</td>\n",
       "      <td>88.2</td>\n",
       "      <td>5.0</td>\n",
       "      <td>Maruti</td>\n",
       "    </tr>\n",
       "  </tbody>\n",
       "</table>\n",
       "</div>"
      ],
      "text/plain": [
       "   year  selling_price  km_driven    fuel seller_type transmission  \\\n",
       "0  2014         450000     145500  Diesel  Individual       Manual   \n",
       "1  2014         370000     120000  Diesel  Individual       Manual   \n",
       "2  2006         158000     140000  Petrol  Individual       Manual   \n",
       "3  2010         225000     127000  Diesel  Individual       Manual   \n",
       "4  2007         130000     120000  Petrol  Individual       Manual   \n",
       "\n",
       "          owner mileage engine max_power  seats    brand  \n",
       "0   First Owner    23.4   1248        74    5.0   Maruti  \n",
       "1  Second Owner   21.14   1498    103.52    5.0    Skoda  \n",
       "2   Third Owner    17.7   1497        78    5.0    Honda  \n",
       "3   First Owner    23.0   1396        90    5.0  Hyundai  \n",
       "4   First Owner    16.1   1298      88.2    5.0   Maruti  "
      ]
     },
     "execution_count": 149,
     "metadata": {},
     "output_type": "execute_result"
    }
   ],
   "source": [
    "df.head()"
   ]
  },
  {
   "cell_type": "code",
   "execution_count": 150,
   "metadata": {},
   "outputs": [
    {
     "data": {
      "text/html": [
       "<div>\n",
       "<style scoped>\n",
       "    .dataframe tbody tr th:only-of-type {\n",
       "        vertical-align: middle;\n",
       "    }\n",
       "\n",
       "    .dataframe tbody tr th {\n",
       "        vertical-align: top;\n",
       "    }\n",
       "\n",
       "    .dataframe thead th {\n",
       "        text-align: right;\n",
       "    }\n",
       "</style>\n",
       "<table border=\"1\" class=\"dataframe\">\n",
       "  <thead>\n",
       "    <tr style=\"text-align: right;\">\n",
       "      <th></th>\n",
       "      <th>year</th>\n",
       "      <th>selling_price</th>\n",
       "      <th>km_driven</th>\n",
       "      <th>fuel</th>\n",
       "      <th>seller_type</th>\n",
       "      <th>transmission</th>\n",
       "      <th>owner</th>\n",
       "      <th>mileage</th>\n",
       "      <th>engine</th>\n",
       "      <th>max_power</th>\n",
       "      <th>seats</th>\n",
       "      <th>brand</th>\n",
       "    </tr>\n",
       "  </thead>\n",
       "  <tbody>\n",
       "    <tr>\n",
       "      <th>0</th>\n",
       "      <td>2014</td>\n",
       "      <td>450000</td>\n",
       "      <td>145500</td>\n",
       "      <td>1</td>\n",
       "      <td>1</td>\n",
       "      <td>1</td>\n",
       "      <td>0</td>\n",
       "      <td>23.40</td>\n",
       "      <td>1248.0</td>\n",
       "      <td>74.00</td>\n",
       "      <td>5.0</td>\n",
       "      <td>20</td>\n",
       "    </tr>\n",
       "    <tr>\n",
       "      <th>1</th>\n",
       "      <td>2014</td>\n",
       "      <td>370000</td>\n",
       "      <td>120000</td>\n",
       "      <td>1</td>\n",
       "      <td>1</td>\n",
       "      <td>1</td>\n",
       "      <td>2</td>\n",
       "      <td>21.14</td>\n",
       "      <td>1498.0</td>\n",
       "      <td>103.52</td>\n",
       "      <td>5.0</td>\n",
       "      <td>27</td>\n",
       "    </tr>\n",
       "    <tr>\n",
       "      <th>2</th>\n",
       "      <td>2006</td>\n",
       "      <td>158000</td>\n",
       "      <td>140000</td>\n",
       "      <td>3</td>\n",
       "      <td>1</td>\n",
       "      <td>1</td>\n",
       "      <td>4</td>\n",
       "      <td>17.70</td>\n",
       "      <td>1497.0</td>\n",
       "      <td>78.00</td>\n",
       "      <td>5.0</td>\n",
       "      <td>10</td>\n",
       "    </tr>\n",
       "    <tr>\n",
       "      <th>3</th>\n",
       "      <td>2010</td>\n",
       "      <td>225000</td>\n",
       "      <td>127000</td>\n",
       "      <td>1</td>\n",
       "      <td>1</td>\n",
       "      <td>1</td>\n",
       "      <td>0</td>\n",
       "      <td>23.00</td>\n",
       "      <td>1396.0</td>\n",
       "      <td>90.00</td>\n",
       "      <td>5.0</td>\n",
       "      <td>11</td>\n",
       "    </tr>\n",
       "    <tr>\n",
       "      <th>4</th>\n",
       "      <td>2007</td>\n",
       "      <td>130000</td>\n",
       "      <td>120000</td>\n",
       "      <td>3</td>\n",
       "      <td>1</td>\n",
       "      <td>1</td>\n",
       "      <td>0</td>\n",
       "      <td>16.10</td>\n",
       "      <td>1298.0</td>\n",
       "      <td>88.20</td>\n",
       "      <td>5.0</td>\n",
       "      <td>20</td>\n",
       "    </tr>\n",
       "  </tbody>\n",
       "</table>\n",
       "</div>"
      ],
      "text/plain": [
       "   year  selling_price  km_driven  fuel  seller_type  transmission  owner  \\\n",
       "0  2014         450000     145500     1            1             1      0   \n",
       "1  2014         370000     120000     1            1             1      2   \n",
       "2  2006         158000     140000     3            1             1      4   \n",
       "3  2010         225000     127000     1            1             1      0   \n",
       "4  2007         130000     120000     3            1             1      0   \n",
       "\n",
       "   mileage  engine  max_power  seats  brand  \n",
       "0    23.40  1248.0      74.00    5.0     20  \n",
       "1    21.14  1498.0     103.52    5.0     27  \n",
       "2    17.70  1497.0      78.00    5.0     10  \n",
       "3    23.00  1396.0      90.00    5.0     11  \n",
       "4    16.10  1298.0      88.20    5.0     20  "
      ]
     },
     "execution_count": 150,
     "metadata": {},
     "output_type": "execute_result"
    }
   ],
   "source": [
    "#convert milage, engine and max_power to float if possible\n",
    "df['mileage']=pd.to_numeric(df['mileage'], errors=\"coerce\")\n",
    "df['engine']=pd.to_numeric(df['engine'], errors=\"coerce\")\n",
    "df['max_power']=pd.to_numeric(df['max_power'], errors=\"coerce\")\n",
    "\n",
    "#classifying the non-numeric columns\n",
    "df['fuel']=df['fuel'].astype('category')\n",
    "df['seller_type']=df['seller_type'].astype('category')\n",
    "df['transmission']=df['transmission'].astype('category')\n",
    "df['owner']=df['owner'].astype('category')\n",
    "df['brand']=df['brand'].astype('category')\n",
    "\n",
    "#convert the non-numeric columns to numeric\n",
    "df['fuel']=df['fuel'].cat.codes\n",
    "df['seller_type']=df['seller_type'].cat.codes\n",
    "df['transmission']=df['transmission'].cat.codes\n",
    "df['owner']=df['owner'].cat.codes\n",
    "df['brand']=df['brand'].cat.codes\n",
    "\n",
    "df.head()"
   ]
  },
  {
   "cell_type": "code",
   "execution_count": 151,
   "metadata": {},
   "outputs": [],
   "source": [
    "#fill missing values with mean\n",
    "df['mileage']=df['mileage'].fillna(df['mileage'].mean())\n",
    "df['engine']=df['engine'].fillna(df['engine'].mean())\n",
    "df['max_power']=df['max_power'].fillna(df['max_power'].mean())\n",
    "\n",
    "#fill missing values with mode\n",
    "df['seats']=df['seats'].fillna(df['seats'].mode()[0])\n"
   ]
  },
  {
   "cell_type": "markdown",
   "metadata": {
    "collapsed": false
   },
   "source": [
    "# Scaling der Daten"
   ]
  },
  {
   "cell_type": "code",
   "execution_count": 152,
   "metadata": {},
   "outputs": [],
   "source": [
    "#set log of selling_price as target\n",
    "y_data=np.log(df['selling_price'])\n",
    "#drop sales_price column\n",
    "x_data=df.drop(['selling_price'],axis=1)"
   ]
  },
  {
   "cell_type": "code",
   "execution_count": 153,
   "metadata": {
    "collapsed": false
   },
   "outputs": [
    {
     "data": {
      "text/html": [
       "<div>\n",
       "<style scoped>\n",
       "    .dataframe tbody tr th:only-of-type {\n",
       "        vertical-align: middle;\n",
       "    }\n",
       "\n",
       "    .dataframe tbody tr th {\n",
       "        vertical-align: top;\n",
       "    }\n",
       "\n",
       "    .dataframe thead th {\n",
       "        text-align: right;\n",
       "    }\n",
       "</style>\n",
       "<table border=\"1\" class=\"dataframe\">\n",
       "  <thead>\n",
       "    <tr style=\"text-align: right;\">\n",
       "      <th></th>\n",
       "      <th>0</th>\n",
       "      <th>1</th>\n",
       "      <th>2</th>\n",
       "      <th>3</th>\n",
       "      <th>4</th>\n",
       "      <th>5</th>\n",
       "      <th>6</th>\n",
       "      <th>7</th>\n",
       "      <th>8</th>\n",
       "      <th>9</th>\n",
       "      <th>10</th>\n",
       "    </tr>\n",
       "  </thead>\n",
       "  <tbody>\n",
       "    <tr>\n",
       "      <th>0</th>\n",
       "      <td>0.048464</td>\n",
       "      <td>1.338363</td>\n",
       "      <td>-0.889115</td>\n",
       "      <td>0.277607</td>\n",
       "      <td>0.385158</td>\n",
       "      <td>-0.666639</td>\n",
       "      <td>0.999896</td>\n",
       "      <td>-0.423804</td>\n",
       "      <td>-0.495682</td>\n",
       "      <td>-0.427258</td>\n",
       "      <td>0.272216</td>\n",
       "    </tr>\n",
       "    <tr>\n",
       "      <th>1</th>\n",
       "      <td>0.048464</td>\n",
       "      <td>0.887411</td>\n",
       "      <td>-0.889115</td>\n",
       "      <td>0.277607</td>\n",
       "      <td>0.385158</td>\n",
       "      <td>0.970600</td>\n",
       "      <td>0.432289</td>\n",
       "      <td>0.079227</td>\n",
       "      <td>0.339607</td>\n",
       "      <td>-0.427258</td>\n",
       "      <td>1.222516</td>\n",
       "    </tr>\n",
       "    <tr>\n",
       "      <th>2</th>\n",
       "      <td>-1.929775</td>\n",
       "      <td>1.241098</td>\n",
       "      <td>1.106392</td>\n",
       "      <td>0.277607</td>\n",
       "      <td>0.385158</td>\n",
       "      <td>2.607839</td>\n",
       "      <td>-0.431678</td>\n",
       "      <td>0.077215</td>\n",
       "      <td>-0.382499</td>\n",
       "      <td>-0.427258</td>\n",
       "      <td>-1.085356</td>\n",
       "    </tr>\n",
       "    <tr>\n",
       "      <th>3</th>\n",
       "      <td>-0.940656</td>\n",
       "      <td>1.011202</td>\n",
       "      <td>-0.889115</td>\n",
       "      <td>0.277607</td>\n",
       "      <td>0.385158</td>\n",
       "      <td>-0.666639</td>\n",
       "      <td>0.899435</td>\n",
       "      <td>-0.126009</td>\n",
       "      <td>-0.042951</td>\n",
       "      <td>-0.427258</td>\n",
       "      <td>-0.949599</td>\n",
       "    </tr>\n",
       "    <tr>\n",
       "      <th>4</th>\n",
       "      <td>-1.682495</td>\n",
       "      <td>0.887411</td>\n",
       "      <td>1.106392</td>\n",
       "      <td>0.277607</td>\n",
       "      <td>0.385158</td>\n",
       "      <td>-0.666639</td>\n",
       "      <td>-0.833524</td>\n",
       "      <td>-0.323198</td>\n",
       "      <td>-0.093883</td>\n",
       "      <td>-0.427258</td>\n",
       "      <td>0.272216</td>\n",
       "    </tr>\n",
       "  </tbody>\n",
       "</table>\n",
       "</div>"
      ],
      "text/plain": [
       "         0         1         2         3         4         5         6   \\\n",
       "0  0.048464  1.338363 -0.889115  0.277607  0.385158 -0.666639  0.999896   \n",
       "1  0.048464  0.887411 -0.889115  0.277607  0.385158  0.970600  0.432289   \n",
       "2 -1.929775  1.241098  1.106392  0.277607  0.385158  2.607839 -0.431678   \n",
       "3 -0.940656  1.011202 -0.889115  0.277607  0.385158 -0.666639  0.899435   \n",
       "4 -1.682495  0.887411  1.106392  0.277607  0.385158 -0.666639 -0.833524   \n",
       "\n",
       "         7         8         9         10  \n",
       "0 -0.423804 -0.495682 -0.427258  0.272216  \n",
       "1  0.079227  0.339607 -0.427258  1.222516  \n",
       "2  0.077215 -0.382499 -0.427258 -1.085356  \n",
       "3 -0.126009 -0.042951 -0.427258 -0.949599  \n",
       "4 -0.323198 -0.093883 -0.427258  0.272216  "
      ]
     },
     "execution_count": 153,
     "metadata": {},
     "output_type": "execute_result"
    }
   ],
   "source": [
    "from sklearn.preprocessing import StandardScaler\n",
    "scaler = StandardScaler()\n",
    "x_data = scaler.fit_transform(x_data)\n",
    "x_data = pd.DataFrame(x_data)\n",
    "x_data.head()"
   ]
  },
  {
   "cell_type": "markdown",
   "metadata": {
    "collapsed": false
   },
   "source": [
    "# Split der daten und Konvertierung in Tensoren"
   ]
  },
  {
   "cell_type": "code",
   "execution_count": 154,
   "metadata": {
    "collapsed": false
   },
   "outputs": [],
   "source": [
    "#split data into train and test with y as price\n",
    "x_train, x_test, y_train, y_test = train_test_split(x_data, y_data, test_size=0.2, random_state=42)"
   ]
  },
  {
   "cell_type": "code",
   "execution_count": 155,
   "metadata": {
    "collapsed": false
   },
   "outputs": [],
   "source": [
    "x_train = torch.tensor(x_train.values, dtype=torch.float)\n",
    "x_test = torch.tensor(x_test.values, dtype=torch.float)\n",
    "y_train = torch.tensor(y_train.values, dtype=torch.float)\n",
    "y_test= torch.tensor(y_test.values, dtype=torch.float)"
   ]
  },
  {
   "cell_type": "markdown",
   "metadata": {
    "collapsed": false
   },
   "source": [
    "# Modell bauen"
   ]
  },
  {
   "cell_type": "code",
   "execution_count": 159,
   "metadata": {
    "collapsed": false
   },
   "outputs": [],
   "source": [
    "class MySimpleNN(torch.nn.Module):   # MySimpleNN erbt von torch.nn.Module\n",
    "\n",
    "    # Konstruktor\n",
    "    def __init__(self,input_size=11,hidden_size=(10,20,10),output_size=1):\n",
    "        # Aufruf des Superkonstruktors von torch.nn.Module\n",
    "        super(MySimpleNN, self).__init__()\n",
    "        # Definition der Schichten\n",
    "        #definiert die Anzahl der Neuronen in den Schichten\n",
    "        self.fc1 = torch.nn.Linear(input_size, hidden_size[0])\n",
    "        self.fc2 = torch.nn.Linear(hidden_size[0], hidden_size[1])\n",
    "        self.fc3 = torch.nn.Linear(hidden_size[1], hidden_size[2])\n",
    "        self.fc4 = torch.nn.Linear(hidden_size[2], output_size)\n",
    "\n",
    "        # Batch Normalization\n",
    "        # 70, 120, 30 sind die Anzahl der Neuronen in den Schichten\n",
    "        self.bn1 = torch.nn.BatchNorm1d(hidden_size[0])\n",
    "        self.bn2 = torch.nn.BatchNorm1d(hidden_size[1])\n",
    "        self.bn3 = torch.nn.BatchNorm1d(hidden_size[2])\n",
    "\n",
    "    # forward Methode -> Forward Propagation\n",
    "    # wenn ich später ein Objekt von MySimpleNN erzeuge, dann kann ich\n",
    "    # dieses Objekt mit einem Tensor aufrufen, dann wird die forward Methode\n",
    "    # aufgerufen. z.B. model(x_train)\n",
    "    def forward(self, xb):   # xb steht für eine Batch von X-Werten\n",
    "        #print(\"xb\", xb.shape)\n",
    "        z2 = self.fc1(xb)  # dahinter steckt x@w1 + b1\n",
    "        a2 = torch.relu(z2)    # alle negativen Werte werden auf 0 gesetzt, der Rest bleibt\n",
    "        #print(\"a2\", a2.shape)\n",
    "        a2_bn = self.bn1(a2) # Normalisierung der Werte auf den Neuronen\n",
    "        #print(\"a2_bn\", a2_bn.shape)\n",
    "        z3 = self.fc2(a2_bn) # dahinter steckt a2@w2 + b2\n",
    "        #print(\"z3\", z3.shape)\n",
    "        a3 = torch.relu(z3)\n",
    "        #print(\"a3\", a3.shape)\n",
    "        a3_bn = self.bn2(a3)\n",
    "        #print(\"a3_bn\", a3_bn.shape)\n",
    "        z4 = self.fc3(a3_bn)\n",
    "        #print(\"z4\", z4.shape)\n",
    "        a4 = torch.relu(z4)\n",
    "        #print(\"a4\", a4.shape)\n",
    "        a4_bn = self.bn3(a4)\n",
    "        #print(\"a4_bn\", a4_bn.shape)\n",
    "        y_hat = torch.relu(self.fc4(a4_bn))\n",
    "        #print(\"y_hat\", y_hat.shape)\n",
    "        return y_hat"
   ]
  },
  {
   "cell_type": "markdown",
   "metadata": {
    "collapsed": false
   },
   "source": [
    "# Training"
   ]
  },
  {
   "cell_type": "code",
   "execution_count": 160,
   "metadata": {
    "collapsed": false
   },
   "outputs": [],
   "source": [
    "def get_batch(x, y, batch_size):\n",
    "    # z.B. range(0, 10, 3) --> 0, 3, 6, 9\n",
    "    # range(start, stop, step)\n",
    "    for i in range(0, len(x), batch_size):\n",
    "        # yield: gibt den Wert zurück, aber merkt sich den aktuellen Zustand\n",
    "        yield x[i:i+batch_size], y[i:i+batch_size]\n",
    "\n"
   ]
  },
  {
   "cell_type": "code",
   "execution_count": 191,
   "metadata": {
    "collapsed": false
   },
   "outputs": [
    {
     "name": "stdout",
     "output_type": "stream",
     "text": [
      "Epoch 00134: reducing learning rate of group 0 to 1.0000e-05.\n",
      "Epoch 00145: reducing learning rate of group 0 to 1.0000e-06.\n",
      "Epoch 00156: reducing learning rate of group 0 to 1.0000e-07.\n",
      "Epoch 00167: reducing learning rate of group 0 to 1.0000e-08.\n"
     ]
    },
    {
     "data": {
      "text/plain": [
       "[<matplotlib.lines.Line2D at 0x7f7de37daf80>]"
      ]
     },
     "execution_count": 191,
     "metadata": {},
     "output_type": "execute_result"
    },
    {
     "data": {
      "image/png": "[encoded data removed]",
      "text/plain": [
       "<Figure size 640x480 with 1 Axes>"
      ]
     },
     "metadata": {},
     "output_type": "display_data"
    }
   ],
   "source": [
    "# eigenes Modell wird erstellt\n",
    "model = MySimpleNN(hidden_size=(70,120,30))\n",
    "lr=0.0001\n",
    "# trainiere immer mit 10 Datensätzen auf einmal\n",
    "batch_size=200\n",
    "\n",
    "# loss function\n",
    "# Mean Squared Error\n",
    "# die Lossfunction von Pytorch müssen erstmal erstellt werden mit ()\n",
    "loss_fn = torch.nn.MSELoss()\n",
    "optemizer = torch.optim.Adam(model.parameters(), lr=lr,weight_decay=0.0001)\n",
    "scheduler = torch.optim.lr_scheduler.ReduceLROnPlateau(optemizer, mode='min', factor=0.1, patience=10, verbose=True, threshold=0.0001)\n",
    "\n",
    "def train(xb, yb):\n",
    "    y_hat=model(xb)\n",
    "    loss = loss_fn(y_hat, yb)\n",
    "    loss.backward()\n",
    "    optemizer.step()\n",
    "    return loss.item()\n",
    "\n",
    "losses=[]\n",
    "for epoch in range(500):\n",
    "    loss_sum=0\n",
    "    # Iteration über alle Batches\n",
    "    for xb, yb in get_batch(x_train, y_train, batch_size):\n",
    "        loss_sum += train(xb, yb)\n",
    "    losses.append(loss_sum/len(x_train))\n",
    "    scheduler.step(losses[-1])\n",
    "#plot\n",
    "import matplotlib.pyplot as plt\n",
    "plt.plot(losses)"
   ]
  },
  {
   "cell_type": "markdown",
   "metadata": {
    "collapsed": false
   },
   "source": [
    "# Auswertung"
   ]
  },
  {
   "cell_type": "code",
   "execution_count": 192,
   "metadata": {},
   "outputs": [
    {
     "name": "stdout",
     "output_type": "stream",
     "text": [
      "mean error: tensor([-0.7162], grad_fn=<DivBackward0>)\n",
      "mean absolute error: tensor([1.2436], grad_fn=<DivBackward0>)\n"
     ]
    }
   ],
   "source": [
    "#calculate mean error\n",
    "error_list=[]\n",
    "for xb, yb in get_batch(x_test, y_test, batch_size):\n",
    "    y_hat=model(xb)\n",
    "    for i in range(len(yb)):\n",
    "        error_list.append(yb[i]-y_hat[i])\n",
    "\n",
    "print(\"mean error:\" , sum(error_list)/len(error_list))\n",
    "\n",
    "print(\"mean absolute error:\" , sum([abs(element) for element in error_list])/len(error_list))"
   ]
  },
  {
   "cell_type": "code",
   "execution_count": 193,
   "metadata": {
    "collapsed": false
   },
   "outputs": [
    {
     "name": "stdout",
     "output_type": "stream",
     "text": [
      "y_hat:  tensor([[13.1800],\n",
      "        [12.2174],\n",
      "        [10.5152],\n",
      "        [12.5623],\n",
      "        [11.7231],\n",
      "        [12.5372],\n",
      "        [13.9565],\n",
      "        [12.1787],\n",
      "        [14.1924],\n",
      "        [14.4658]], grad_fn=<ReluBackward0>) y:  tensor([12.1960, 13.1224, 12.9598, 11.9184, 13.1712, 11.9829, 13.0170, 13.2534,\n",
      "        12.0436, 11.8130])\n"
     ]
    }
   ],
   "source": [
    "y_hat=model(x_test[:10])\n",
    "y = y_test[:10]\n",
    "print(\"y_hat: \", y_hat, \"y: \", y)"
   ]
  }
 ],
 "metadata": {
  "kernelspec": {
   "display_name": "Python 3",
   "language": "python",
   "name": "python3"
  },
  "language_info": {
   "codemirror_mode": {
    "name": "ipython",
    "version": 3
   },
   "file_extension": ".py",
   "mimetype": "text/x-python",
   "name": "python",
   "nbconvert_exporter": "python",
   "pygments_lexer": "ipython3",
   "version": "3.10.9"
  }
 },
 "nbformat": 4,
 "nbformat_minor": 0
}
